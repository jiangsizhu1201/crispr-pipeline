{
 "cells": [
  {
   "cell_type": "code",
   "execution_count": 17,
   "id": "5299e79a",
   "metadata": {},
   "outputs": [
    {
     "name": "stdout",
     "output_type": "stream",
     "text": [
      "Generating per-sample TSV from analysis set 'IGVFDS4389OUWU'...\n",
      "No barcode to hashtag mapping provided.\n",
      "No barcode to hashtag mapping provided.\n",
      "No barcode to hashtag mapping provided.\n",
      "No barcode to hashtag mapping provided.\n"
     ]
    }
   ],
   "source": [
    "%%bash\n",
    "\n",
    "#python bin/generate_per_sample.py --keypair igvf_key.json --accession  IGVFDS9445RJOU --output per-sample1.tsv\n",
    "python3 bin/generate_per_sample.py --keypair igvf_key.json --accession IGVFDS4389OUWU --output per-sample2.tsv --hash_seqspec seqspec/hash_seq_spec.yaml --rna_seqspec seqspec/rna_seq_spec.yaml --sgrna_seqspec seqspec/sgrna_seq_spec.yaml"
   ]
  },
  {
   "cell_type": "code",
   "execution_count": null,
   "id": "7ac0d34c",
   "metadata": {},
   "outputs": [],
   "source": [
    "%%bash\n",
    "python bin/download_igvf.py --sample per-sample1.tsv --keypair igvf_key.json"
   ]
  },
  {
   "cell_type": "code",
   "execution_count": 20,
   "id": "4bd23ec6",
   "metadata": {},
   "outputs": [],
   "source": [
    "import pandas as pd\n",
    "\n",
    "samplesheet = pd.read_csv('/Users/sjiang/Desktop/IGVF/nf-core/crispr-pipeline/download_pipeline/per-sample3.tsv', sep='\\t')\n",
    "\n",
    "updated_samplesheet = samplesheet[['R1_path', 'R2_path', 'file_modality', 'measurement_sets', 'sequencing_run', 'lane', 'seqspec', 'barcode_onlist']].copy()\n",
    "\n",
    "updated_samplesheet['file_modality'] = updated_samplesheet['file_modality'].replace({\n",
    "    'scRNA sequencing': 'scRNA',\n",
    "    'gRNA sequencing': 'gRNA',\n",
    "    'cell hashing barcode sequencing': 'hash'\n",
    "})\n",
    "\n",
    "updated_samplesheet.to_csv('updated_samplesheet.tsv', sep=',', index=False)\n"
   ]
  },
  {
   "cell_type": "code",
   "execution_count": null,
   "id": "ec6fbd12",
   "metadata": {},
   "outputs": [],
   "source": [
    "export GOOGLE_APPLICATION_CREDENTIALS=\"/Users/sjiang/Desktop/IGVF/nf-core/crispr-pipeline/pipeline-service-key.json\"\n",
    "# export TOWER_ACCESS_TOKEN=eyJ0aWQiOiAxMTAyOH0uZmZlZjM0OGIyZWFhMTZlZjFhMWQ4ZGY2ZjcyN2U4MzMxOWFiZWFlNQ==\n",
    "nextflow run main.nf -profile google --input download_pipeline/updated_samplesheet.tsv --outdir gs://igvf-pertub-seq-pipeline-data/scratch/sjiang\n"
   ]
  }
 ],
 "metadata": {
  "kernelspec": {
   "display_name": "nfenv",
   "language": "python",
   "name": "python3"
  },
  "language_info": {
   "codemirror_mode": {
    "name": "ipython",
    "version": 3
   },
   "file_extension": ".py",
   "mimetype": "text/x-python",
   "name": "python",
   "nbconvert_exporter": "python",
   "pygments_lexer": "ipython3",
   "version": "3.13.3"
  }
 },
 "nbformat": 4,
 "nbformat_minor": 5
}
