{
 "cells": [
  {
   "cell_type": "code",
   "execution_count": null,
   "metadata": {},
   "outputs": [],
   "source": [
    "%%bash\n",
    "\n",
    "# Download the Google Cloud SDK installation script\n",
    "curl -O https://dl.google.com/dl/cloudsdk/channels/rapid/install_google_cloud_sdk.bash\n",
    "chmod +x install_google_cloud_sdk.bash\n",
    "./install_google_cloud_sdk.bash\n",
    "./google-cloud-sdk/bin/gcloud init"
   ]
  },
  {
   "cell_type": "code",
   "execution_count": null,
   "metadata": {},
   "outputs": [],
   "source": [
    "%%bash\n",
    "\n",
    "$ gcloud projects add-iam-policy-binding igvf-pertub-seq-pipeline \\\n",
    "--member=\"serviceAccount:sjiang@igvf-pertub-seq-pipeline.iam.gserviceaccount.com\" \\\n",
    "--role=\"roles/iam.serviceAccountUser\"\n",
    "\n",
    "$ gcloud projects add-iam-policy-binding igvf-pertub-seq-pipeline \\\n",
    "--member=\"serviceAccount:sjiang@igvf-pertub-seq-pipeline.iam.gserviceaccount.com\" \\\n",
    "--role=\"roles/batch.jobsEditor\"\n",
    "\n",
    "$ gcloud projects add-iam-policy-binding igvf-pertub-seq-pipeline \\\n",
    "--member=\"serviceAccount:sjiang@igvf-pertub-seq-pipeline.iam.gserviceaccount.com\" \\\n",
    "--role=\"roles/logging.viewer\"\n",
    "\n",
    "$ gcloud projects add-iam-policy-binding igvf-pertub-seq-pipeline \\\n",
    "--member=\"serviceAccount:sjiang@igvf-pertub-seq-pipeline.iam.gserviceaccount.com\" \\\n",
    "--role=\"roles/storage.admin\"\n"
   ]
  },
  {
   "cell_type": "code",
   "execution_count": null,
   "metadata": {},
   "outputs": [],
   "source": [
    "%%bash\n",
    "chmod +x bin/*\n",
    "export GOOGLE_APPLICATION_CREDENTIALS=\"/PHShome/sj1088/scratch/google/igvf-pertub-seq-pipeline-2769d6e74521.json\"\n",
    "export TOWER_ACCESS_TOKEN=eyJ0aWQiOiAxMTAyOH0uZmZlZjM0OGIyZWFhMTZlZjFhMWQ4ZGY2ZjcyN2U4MzMxOWFiZWFlNQ==\n",
    "nextflow run main.nf -c nextflow.config -profile google  "
   ]
  }
 ],
 "metadata": {
  "kernelspec": {
   "display_name": "base",
   "language": "python",
   "name": "python3"
  },
  "language_info": {
   "codemirror_mode": {
    "name": "ipython",
    "version": 3
   },
   "file_extension": ".py",
   "mimetype": "text/x-python",
   "name": "python",
   "nbconvert_exporter": "python",
   "pygments_lexer": "ipython3",
   "version": "3.12.5"
  }
 },
 "nbformat": 4,
 "nbformat_minor": 2
}
