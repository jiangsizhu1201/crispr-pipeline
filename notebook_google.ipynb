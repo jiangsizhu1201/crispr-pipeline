{
 "cells": [
  {
   "cell_type": "code",
   "execution_count": null,
   "metadata": {},
   "outputs": [],
   "source": [
    "%%bash\n",
    "\n",
    "rm -rf .nextflow pipeline_outputs pipeline_dashboard\n",
    "rm .nextflow.log *.tsv"
   ]
  },
  {
   "cell_type": "code",
   "execution_count": null,
   "metadata": {},
   "outputs": [],
   "source": [
    "%%bash\n",
    "\n",
    "# Download the Google Cloud SDK installation script\n",
    "curl -O https://dl.google.com/dl/cloudsdk/channels/rapid/install_google_cloud_sdk.bash\n",
    "chmod +x install_google_cloud_sdk.bash\n",
    "./install_google_cloud_sdk.bash\n",
    "./google-cloud-sdk/bin/gcloud init"
   ]
  },
  {
   "cell_type": "code",
   "execution_count": null,
   "metadata": {},
   "outputs": [],
   "source": [
    "%%bash\n",
    "\n",
    "gcloud auth login\n",
    "gcloud config set project igvf-pertub-seq-pipeline\n",
    "gcloud auth activate-service-account sjiang@igvf-pertub-seq-pipeline.iam.gserviceaccount.com --key-file=igvf-pertub-seq-pipeline-595ba98b5a73.json"
   ]
  },
  {
   "cell_type": "code",
   "execution_count": null,
   "metadata": {},
   "outputs": [],
   "source": [
    "%%bash\n",
    "\n",
    "gcloud iam service-accounts create sjiang"
   ]
  },
  {
   "cell_type": "code",
   "execution_count": null,
   "metadata": {},
   "outputs": [],
   "source": [
    "%%bash\n",
    "\n",
    "$ gcloud projects add-iam-policy-binding igvf-pertub-seq-pipeline \\\n",
    "--member=\"serviceAccount:sjiang@igvf-pertub-seq-pipeline.iam.gserviceaccount.com\" \\\n",
    "--role=\"roles/iam.serviceAccountUser\"\n",
    "\n",
    "$ gcloud projects add-iam-policy-binding igvf-pertub-seq-pipeline \\\n",
    "--member=\"serviceAccount:sjiang@igvf-pertub-seq-pipeline.iam.gserviceaccount.com\" \\\n",
    "--role=\"roles/batch.jobsEditor\"\n",
    "\n",
    "$ gcloud projects add-iam-policy-binding igvf-pertub-seq-pipeline \\\n",
    "--member=\"serviceAccount:sjiang@igvf-pertub-seq-pipeline.iam.gserviceaccount.com\" \\\n",
    "--role=\"roles/logging.viewer\"\n",
    "\n",
    "$ gcloud projects add-iam-policy-binding igvf-pertub-seq-pipeline \\\n",
    "--member=\"serviceAccount:sjiang@igvf-pertub-seq-pipeline.iam.gserviceaccount.com\" \\\n",
    "--role=\"roles/storage.admin\"\n"
   ]
  },
  {
   "cell_type": "code",
   "execution_count": null,
   "metadata": {},
   "outputs": [],
   "source": [
    "nextflow clone https://github.com/jiangsizhu1201/crispr-pipeline"
   ]
  },
  {
   "cell_type": "code",
   "execution_count": null,
   "metadata": {},
   "outputs": [],
   "source": [
    "%%bash\n",
    "chmod +x bin/*\n",
    "export GOOGLE_APPLICATION_CREDENTIALS=\"/Users/sjiang/Desktop/IGVF/nf-core/nf-core-crispr/igvf-pertub-seq-pipeline-595ba98b5a73.json\"\n",
    "export TOWER_ACCESS_TOKEN=eyJ0aWQiOiAxMTAyOH0uZmZlZjM0OGIyZWFhMTZlZjFhMWQ4ZGY2ZjcyN2U4MzMxOWFiZWFlNQ==\n",
    "nextflow run main.nf -profile google --input example-data/test_samplesheet.tsv --outdir gs://igvf-pertub-seq-pipeline-data/scratch"
   ]
  },
  {
   "cell_type": "code",
   "execution_count": null,
   "metadata": {},
   "outputs": [],
   "source": [
    "%%bash\n",
    "chmod +x bin/*\n",
    "export TOWER_ACCESS_TOKEN=eyJ0aWQiOiAxMTAyOH0uZmZlZjM0OGIyZWFhMTZlZjFhMWQ4ZGY2ZjcyN2U4MzMxOWFiZWFlNQ==\n",
    "nextflow run https://github.com/jiangsizhu1201/crispr-pipeline -with-tower -profile google --input example-data/test_samplesheet.tsv --outdir gs://igvf-pertub-seq-pipeline-data/scratch"
   ]
  }
 ],
 "metadata": {
  "kernelspec": {
   "display_name": "base",
   "language": "python",
   "name": "python3"
  },
  "language_info": {
   "codemirror_mode": {
    "name": "ipython",
    "version": 3
   },
   "file_extension": ".py",
   "mimetype": "text/x-python",
   "name": "python",
   "nbconvert_exporter": "python",
   "pygments_lexer": "ipython3",
   "version": "3.13.3"
  }
 },
 "nbformat": 4,
 "nbformat_minor": 2
}
