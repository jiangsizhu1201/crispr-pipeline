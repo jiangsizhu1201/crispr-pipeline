{
 "cells": [
  {
   "cell_type": "markdown",
   "metadata": {},
   "source": [
    "### **1. Nextflow Installation**\n",
    "   \n",
    "Nextflow is the workflow management system that orchestrates the entire pipeline. We recommend installing it via Conda."
   ]
  },
  {
   "cell_type": "code",
   "execution_count": null,
   "metadata": {},
   "outputs": [],
   "source": [
    "%%bash\n",
    "# Install Nextflow from the bioconda channel\n",
    "conda install nextflow -c bioconda\n",
    "\n",
    "# Verify the installation\n",
    "nextflow -version"
   ]
  },
  {
   "cell_type": "markdown",
   "metadata": {},
   "source": [
    "### **2. Set Up Google Cloud SDK**\n",
    "\n",
    "The Google Cloud SDK is required for running the pipeline on Google Cloud Platform. This enables secure access to your GCP resources and services."
   ]
  },
  {
   "cell_type": "code",
   "execution_count": null,
   "metadata": {},
   "outputs": [],
   "source": [
    "%%bash\n",
    "# Download the Google Cloud SDK installation \n",
    "curl -O https://dl.google.com/dl/cloudsdk/channels/rapid/install_google_cloud_sdk.bash\n",
    "chmod +x install_google_cloud_sdk.bash\n",
    "./install_google_cloud_sdk.bash\n",
    "./google-cloud-sdk/bin/gcloud init\n",
    "# This will guide you through initial GCP setup and authentication."
   ]
  },
  {
   "cell_type": "markdown",
   "metadata": {},
   "source": [
    "### **3. Authenticate with Google Cloud**\n",
    "\n",
    "Authenticate with your Google Cloud account and configure your project settings. This step is essential for enabling the pipeline to access your GCP resources.\n",
    "\n",
    "*Note: Replace YOUR_PROJECT_ID with your actual Google Cloud project identifier.* <br>\n",
    "\n",
    "*Note: You can also use **igvf-pertub-seq-pipeline** for testing. This project is billed to the IGVF-DACC.*"
   ]
  },
  {
   "cell_type": "code",
   "execution_count": null,
   "metadata": {},
   "outputs": [],
   "source": [
    "%%bash\n",
    "# Log in to your Google account\n",
    "gcloud auth login\n",
    "\n",
    "# Set the active project\n",
    "gcloud config set project YOUR_PROJECT_ID\n",
    "\n",
    "# Verify your configuration\n",
    "gcloud config list"
   ]
  },
  {
   "cell_type": "markdown",
   "metadata": {},
   "source": [
    "### **4. Create Service Account and Configure IAM Permissions**\n",
    "For automated pipeline execution, you'll need to create a service account with appropriate permissions. This ensures secure, programmatic access to Google Cloud resources. The service account needs specific roles to manage compute resources and storage.\n",
    "\n",
    "*Note: Replace YOUR_NAME with your actual service account name.*"
   ]
  },
  {
   "cell_type": "code",
   "execution_count": null,
   "metadata": {},
   "outputs": [],
   "source": [
    "%%bash\n",
    "# Create a new service account for the pipeline\n",
    "gcloud iam service-accounts create YOUR_NAME"
   ]
  },
  {
   "cell_type": "code",
   "execution_count": null,
   "metadata": {},
   "outputs": [],
   "source": [
    "%%bash\n",
    "\n",
    "# Grant Service Account User role\n",
    "gcloud projects add-iam-policy-binding YOUR_PROJECT_ID \\\n",
    "    --member=\"serviceAccount:YOUR_NAME@YOUR_PROJECT_ID.iam.gserviceaccount.com\" \\\n",
    "    --role=\"roles/iam.serviceAccountUser\"\n",
    "\n",
    "# Grant Batch Jobs Editor role for compute job management\n",
    "gcloud projects add-iam-policy-binding YOUR_PROJECT_ID \\\n",
    "    --member=\"serviceAccount:YOUR_NAME@YOUR_PROJECT_ID.iam.gserviceaccount.com\" \\\n",
    "    --role=\"roles/batch.jobsEditor\"\n",
    "\n",
    "# Grant Batch Agent Reporter role\n",
    "gcloud projects add-iam-policy-binding YOUR_PROJECT_ID \\\n",
    "    --member=\"serviceAccount:YOUR_NAME@YOUR_PROJECT_ID.iam.gserviceaccount.com\" \\\n",
    "    --role=\"roles/batch.agentReporter\"\n",
    "\n",
    "# Grant Cloud Life Sciences Admin role\n",
    "gcloud projects add-iam-policy-binding YOUR_PROJECT_ID \\\n",
    "    --member=\"serviceAccount:YOUR_NAME@YOUR_PROJECT_ID.iam.gserviceaccount.com\" \\\n",
    "    --role=\"roles/lifesciences.admin\"\n",
    "\n",
    "# Grant Logs Viewer role\n",
    "gcloud projects add-iam-policy-binding YOUR_PROJECT_ID \\\n",
    "    --member=\"serviceAccount:YOUR_NAME@YOUR_PROJECT_ID.iam.gserviceaccount.com\" \\\n",
    "    --role=\"roles/logging.viewer\"\n",
    "\n",
    "# Grant Logs Writer role\n",
    "gcloud projects add-iam-policy-binding YOUR_PROJECT_ID \\\n",
    "    --member=\"serviceAccount:YOUR_NAME@YOUR_PROJECT_ID.iam.gserviceaccount.com\" \\\n",
    "    --role=\"roles/logging.logWriter\"\n",
    "\n",
    "# Grant Storage Admin role\n",
    "gcloud projects add-iam-policy-binding YOUR_PROJECT_ID \\\n",
    "    --member=\"serviceAccount:YOUR_NAME@YOUR_PROJECT_ID.iam.gserviceaccount.com\" \\\n",
    "    --role=\"roles/storage.admin\""
   ]
  },
  {
   "cell_type": "markdown",
   "metadata": {},
   "source": [
    "### **4. Clone the CRISPR Pipeline**\n",
    "\n",
    "Download the CRISPR pipeline repository to your local environment. This will provide you with all the necessary workflow scripts and configuration files."
   ]
  },
  {
   "cell_type": "code",
   "execution_count": null,
   "metadata": {},
   "outputs": [],
   "source": [
    "%%bash\n",
    "# Clone the CRISPR pipeline repository\n",
    "git clone https://github.com/jiangsizhul201/crispr-pipeline\n",
    "\n",
    "# Navigate to the pipeline directory\n",
    "cd crispr-pipeline"
   ]
  },
  {
   "cell_type": "code",
   "execution_count": null,
   "metadata": {},
   "outputs": [],
   "source": [
    "%%bash\n",
    "# Generate and Download Service Account Key\n",
    "\n",
    "## Create and download the service account key file\n",
    "gcloud iam service-accounts keys create ./pipeline-service-key.json \\\n",
    "    --iam-account=YOUR_NAME@YOUR_PROJECT_ID.iam.gserviceaccount.com\n",
    "\n",
    "## Set the environment variable for authentication\n",
    "export GOOGLE_APPLICATION_CREDENTIALS=./pipeline-service-key.json"
   ]
  },
  {
   "cell_type": "markdown",
   "metadata": {},
   "source": [
    "### **5. Run the pipeline**\n",
    "\n",
    "Parameter Explanation:\n",
    "\n",
    "- `chmod +x bin/*`: Makes all utility scripts in the bin/ directory executable, which is necessary if the pipeline relies on helper scripts.\n",
    "\n",
    "- `nextflow run main.nf`: Executes the main Nextflow workflow script.\n",
    "\n",
    "- `-profile google`: Applies the configuration profile optimized for execution on Google Cloud (e.g., using google executor).\n",
    "\n",
    "- `--input`: Path to your input sample sheet in TSV format. This file should define the samples and metadata needed for the pipeline run.\n",
    "\n",
    "- `--outdir`: Destination folder in a Google Cloud Storage bucket where all pipeline outputs will be written."
   ]
  },
  {
   "cell_type": "code",
   "execution_count": null,
   "metadata": {},
   "outputs": [],
   "source": [
    "%%bash\n",
    "# Makes all utility scripts in the bin/ directory executable\n",
    "chmod +x bin/*\n",
    "# Launch the pipeline using the Google Cloud profile\n",
    "# test_samplesheet1.tsv contains one measurement set\n",
    "nextflow run main.nf -profile google --input example-data/test_samplesheet1.tsv --outdir gs://YOUR_PROJECT_ID-data/scratch/"
   ]
  },
  {
   "cell_type": "markdown",
   "metadata": {},
   "source": [
    "### **Additional Parameters:**\n",
    "- `-resume`: Resumes execution from the last successful checkpoint if the pipeline was interrupted"
   ]
  }
 ],
 "metadata": {
  "kernelspec": {
   "display_name": "base",
   "language": "python",
   "name": "python3"
  },
  "language_info": {
   "codemirror_mode": {
    "name": "ipython",
    "version": 3
   },
   "file_extension": ".py",
   "mimetype": "text/x-python",
   "name": "python",
   "nbconvert_exporter": "python",
   "pygments_lexer": "ipython3",
   "version": "3.13.3"
  }
 },
 "nbformat": 4,
 "nbformat_minor": 2
}
